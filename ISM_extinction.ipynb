{
 "cells": [
  {
   "cell_type": "code",
   "execution_count": null,
   "metadata": {
    "collapsed": true
   },
   "outputs": [],
   "source": [
    "import numpy as np\n",
    "import matplotlib.pyplot as plt\n",
    "import matplotlib\n",
    "import matplotlib.patches as mpatches\n",
    "from astropy.io import fits\n",
    "from astropy.stats import sigma_clipped_stats\n",
    "import scipy.ndimage as snd\n",
    "from scipy.optimize import curve_fit"
   ]
  },
  {
   "cell_type": "code",
   "execution_count": null,
   "metadata": {
    "collapsed": true
   },
   "outputs": [],
   "source": [
    "B = fits.getdata('./Output/M51_aligned/B_final_norm_align.fits')\n",
    "R = fits.getdata('./Output/M51_aligned/R_final_norm_align.fits')\n",
    "I = fits.getdata('./Output/M51_aligned/I_final_norm_align.fits')\n",
    "V = fits.getdata('./Output/M51_aligned/V_final_norm_align.fits')\n",
    "Ha = fits.getdata('./Output/M51_aligned/Ha_final_norm_align.fits')"
   ]
  },
  {
   "cell_type": "code",
   "execution_count": null,
   "metadata": {},
   "outputs": [],
   "source": [
    "B_stat = sigma_clipped_stats(B,sigma=3,iters=3)\n",
    "B_median = B_stat[1]\n",
    "B_sigma = B_stat[2]  \n",
    "print 'B'\n",
    "print ('Median: %s' % B_median)\n",
    "print ('Sigma: %s' % B_sigma)\n",
    "\n",
    "R_stat = sigma_clipped_stats(R,sigma=3,iters=3)\n",
    "R_median = R_stat[1]\n",
    "R_sigma = R_stat[2]  \n",
    "print 'R'\n",
    "print ('Median: %s' % R_median)\n",
    "print ('Sigma: %s' % R_sigma)\n",
    "\n",
    "I_stat = sigma_clipped_stats(I,sigma=3,iters=3)\n",
    "I_median = I_stat[1]\n",
    "I_sigma = I_stat[2]  \n",
    "print 'I'\n",
    "print ('Median: %s' % I_median)\n",
    "print ('Sigma: %s' % I_sigma)\n",
    "\n",
    "V_stat = sigma_clipped_stats(V,sigma=3,iters=3)\n",
    "V_median = V_stat[1]\n",
    "V_sigma = V_stat[2]  \n",
    "print 'V'\n",
    "print ('Median: %s' % V_median)\n",
    "print ('Sigma: %s' % V_sigma)\n",
    "\n",
    "Ha_stat = sigma_clipped_stats(Ha,sigma=3,iters=3)\n",
    "Ha_median = Ha_stat[1]\n",
    "Ha_sigma = Ha_stat[2]  \n",
    "print 'Ha'\n",
    "print ('Median: %s' % Ha_median)\n",
    "print ('Sigma: %s' % Ha_sigma)"
   ]
  },
  {
   "cell_type": "code",
   "execution_count": null,
   "metadata": {},
   "outputs": [],
   "source": [
    "B_maximum = 0\n",
    "B_max_pos = [0,0]\n",
    "\n",
    "B_close = B[275:625,375:725]\n",
    "\n",
    "for i in range(150,200):\n",
    "    for j in range(150,200):\n",
    "        if B_close[i][j]> B_maximum:\n",
    "            B_maximum = B_close[i][j]\n",
    "            B_max_pos[1] = i\n",
    "            B_max_pos[0] = j\n",
    "            \n",
    "R_maximum = 0\n",
    "R_max_pos = [0,0]\n",
    "\n",
    "R_close = R[275:625,375:725]\n",
    "\n",
    "for i in range(150,200):\n",
    "    for j in range(150,200):\n",
    "        if R_close[i][j]> R_maximum:\n",
    "            R_maximum = R_close[i][j]\n",
    "            R_max_pos[1] = i\n",
    "            R_max_pos[0] = j\n",
    "\n",
    "I_maximum = 0\n",
    "I_max_pos = [0,0]\n",
    "\n",
    "I_close = I[275:625,375:725]\n",
    "\n",
    "for i in range(150,200):\n",
    "    for j in range(150,200):\n",
    "        if I_close[i][j]> I_maximum:\n",
    "            I_maximum = I_close[i][j]\n",
    "            I_max_pos[1] = i\n",
    "            I_max_pos[0] = j\n",
    "            \n",
    "V_maximum = 0\n",
    "V_max_pos = [0,0]\n",
    "\n",
    "V_close = V[275:625,375:725]\n",
    "\n",
    "for i in range(150,200):\n",
    "    for j in range(150,200):\n",
    "        if V_close[i][j]> V_maximum:\n",
    "            V_maximum = V_close[i][j]\n",
    "            V_max_pos[1] = i\n",
    "            V_max_pos[0] = j\n",
    "            \n",
    "Ha_maximum = 0\n",
    "Ha_max_pos = [0,0]\n",
    "\n",
    "Ha_close = Ha[275:625,375:725]\n",
    "\n",
    "for i in range(150,200):\n",
    "    for j in range(150,200):\n",
    "        if Ha_close[i][j]> Ha_maximum:\n",
    "            Ha_maximum = Ha_close[i][j]\n",
    "            Ha_max_pos[1] = i\n",
    "            Ha_max_pos[0] = j  \n",
    "            \n",
    "print B_max_pos\n",
    "print R_max_pos\n",
    "print I_max_pos\n",
    "print V_max_pos\n",
    "print Ha_max_pos"
   ]
  },
  {
   "cell_type": "code",
   "execution_count": null,
   "metadata": {},
   "outputs": [],
   "source": [
    "r = 140\n",
    " \n",
    "plt.figure(figsize=((15,15)))\n",
    "\n",
    "plt.subplot(231)\n",
    "plt.title('B', fontsize=20)\n",
    "plt.imshow(B_close,vmin=B_median-3*B_sigma,vmax=B_median+3*B_sigma,cmap=plt.cm.coolwarm, origin='lower')\n",
    "plt.scatter(B_max_pos[0],B_max_pos[1], color='k', marker='+')\n",
    "circle = plt.Circle((B_max_pos[0],B_max_pos[1]),r,color='k',fill=False)\n",
    "plt.gcf().gca().add_artist(circle)\n",
    "\n",
    "plt.subplot(232)\n",
    "plt.title('R', fontsize=20)\n",
    "plt.imshow(R_close,vmin=R_median-3*R_sigma,vmax=R_median+3*R_sigma,cmap=plt.cm.coolwarm, origin='lower')\n",
    "plt.scatter(R_max_pos[0],R_max_pos[1], color='k', marker='+')\n",
    "circle = plt.Circle((R_max_pos[0],R_max_pos[1]),r,color='k',fill=False)\n",
    "plt.gcf().gca().add_artist(circle)\n",
    "\n",
    "plt.subplot(233)\n",
    "plt.title('I', fontsize=20)\n",
    "plt.imshow(I_close,vmin=I_median-3*I_sigma,vmax=I_median+3*I_sigma,cmap=plt.cm.coolwarm, origin='lower')\n",
    "plt.scatter(I_max_pos[0],I_max_pos[1], color='k', marker='+')\n",
    "circle = plt.Circle((I_max_pos[0],I_max_pos[1]),r,color='k',fill=False)\n",
    "plt.gcf().gca().add_artist(circle)\n",
    "\n",
    "plt.subplot(234)\n",
    "plt.title('V', fontsize=20)\n",
    "plt.imshow(V_close,vmin=V_median-3*V_sigma,vmax=V_median+3*V_sigma,cmap=plt.cm.coolwarm, origin='lower')\n",
    "plt.scatter(V_max_pos[0],V_max_pos[1], color='k', marker='+')\n",
    "circle = plt.Circle((V_max_pos[0],V_max_pos[1]),r,color='k',fill=False)\n",
    "plt.gcf().gca().add_artist(circle)\n",
    "\n",
    "plt.subplot(235)\n",
    "plt.title('Ha', fontsize=20)\n",
    "plt.imshow(Ha_close,vmin=Ha_median-3*Ha_sigma,vmax=Ha_median+3*Ha_sigma,cmap=plt.cm.coolwarm, origin='lower')\n",
    "plt.scatter(Ha_max_pos[0],Ha_max_pos[1], color='k', marker='+')\n",
    "circle = plt.Circle((Ha_max_pos[0],Ha_max_pos[1]),r,color='k',fill=False)\n",
    "plt.gcf().gca().add_artist(circle)\n",
    "\n",
    "plt.subplots_adjust(hspace=-0.4)\n",
    "plt.show()"
   ]
  },
  {
   "cell_type": "code",
   "execution_count": null,
   "metadata": {
    "collapsed": true
   },
   "outputs": [],
   "source": [
    "#checks array elements in a circle using midpoint circle algorithm\n",
    "#finds median value along circle and returns it\n",
    "def circle_check(array,x0,y0,r):\n",
    "    copy = array\n",
    "    values = np.array([])\n",
    "    median = np.array([])\n",
    "    f = 1 - r\n",
    "    x = 0\n",
    "    y = r\n",
    "    dx = 1\n",
    "    dy = -2 * r\n",
    "    \n",
    "    values = np.append(values,array[x0 + r, y0])\n",
    "    values = np.append(values,array[x0 - r, y0])  \n",
    "    values = np.append(values,array[x0, y0 + r])\n",
    "    values = np.append(values,array[x0, y0 - r])\n",
    "    \n",
    "    while x < y:\n",
    "        if f >= 0:\n",
    "            y -= 1\n",
    "            dy += 2\n",
    "            f += dy\n",
    "        \n",
    "        x += 1\n",
    "        dx += 2\n",
    "        f += dx\n",
    "        \n",
    "        values = np.append(values,array[x0 + x, y0 + y])\n",
    "        values = np.append(values,array[x0 - x, y0 + y])\n",
    "        values = np.append(values,array[x0 + x, y0 - y])\n",
    "        values = np.append(values,array[x0 - x, y0 - y])\n",
    "        values = np.append(values,array[x0 + y, y0 + x])\n",
    "        values = np.append(values,array[x0 - y, y0 + x])\n",
    "        values = np.append(values,array[x0 + y, y0 - x])\n",
    "        values = np.append(values,array[x0 - y, y0 - x])\n",
    "        \n",
    "      \n",
    "        \n",
    "    #print values\n",
    "    #print np.median(values)\n",
    "    median = np.append(median,np.median(values))\n",
    "\n",
    "    return float(median)"
   ]
  },
  {
   "cell_type": "code",
   "execution_count": null,
   "metadata": {
    "collapsed": true
   },
   "outputs": [],
   "source": [
    "B_medians=[]\n",
    "for i in np.arange(0,150,10):\n",
    "    B_medians.append(circle_check(B_close,B_max_pos[0],B_max_pos[1],i))\n",
    "    \n",
    "R_medians=[]\n",
    "for i in np.arange(0,150,10):\n",
    "    R_medians.append(circle_check(R_close,R_max_pos[0],R_max_pos[1],i))\n",
    "    \n",
    "I_medians=[]\n",
    "for i in np.arange(0,150,10):\n",
    "    I_medians.append(circle_check(I_close,I_max_pos[0],I_max_pos[1],i))\n",
    "\n",
    "V_medians=[]\n",
    "for i in np.arange(0,150,10):\n",
    "    V_medians.append(circle_check(V_close,V_max_pos[0],V_max_pos[1],i))\n",
    "\n",
    "Ha_medians=[]\n",
    "for i in np.arange(0,150,10):\n",
    "    Ha_medians.append(circle_check(Ha_close,Ha_max_pos[0],Ha_max_pos[1],i))"
   ]
  },
  {
   "cell_type": "code",
   "execution_count": null,
   "metadata": {
    "collapsed": true
   },
   "outputs": [],
   "source": [
    "x = np.arange(0,150,10)\n",
    "dist = 7100.8882805 #kpc\n",
    "radius = np.multiply(x,(1.5/3600*np.pi/180*dist))"
   ]
  },
  {
   "cell_type": "code",
   "execution_count": null,
   "metadata": {
    "collapsed": true
   },
   "outputs": [],
   "source": [
    "def ADU_to_Mag(flux,filt):\n",
    "    zpt = {'B':20.495713252099467,'R':20.614211648453246,'I':19.197490584726474,'V':20.647121539787459,'Ha':17.575096769996414}\n",
    "    mag = -2.5*np.log10(flux)+zpt[filt]\n",
    "    return mag"
   ]
  },
  {
   "cell_type": "code",
   "execution_count": null,
   "metadata": {
    "collapsed": true
   },
   "outputs": [],
   "source": [
    "B_mag = []\n",
    "for i in range(len(B_medians)):\n",
    "    B_mag.append(ADU_to_Mag(B_medians[i],'B'))\n",
    "    \n",
    "R_mag = []\n",
    "for i in range(len(R_medians)):\n",
    "    R_mag.append(ADU_to_Mag(R_medians[i],'R'))\n",
    "    \n",
    "I_mag = []\n",
    "for i in range(len(I_medians)):\n",
    "    I_mag.append(ADU_to_Mag(I_medians[i],'I'))\n",
    "    \n",
    "V_mag = []\n",
    "for i in range(len(V_medians)):\n",
    "    V_mag.append(ADU_to_Mag(V_medians[i],'V'))\n",
    "    \n",
    "Ha_mag = []\n",
    "for i in range(len(Ha_medians)):\n",
    "    Ha_mag.append(ADU_to_Mag(Ha_medians[i],'Ha'))"
   ]
  },
  {
   "cell_type": "code",
   "execution_count": null,
   "metadata": {
    "collapsed": true
   },
   "outputs": [],
   "source": [
    "B_surf = B_mag+2.5*np.log10(1.5*1.5)\n",
    "R_surf = R_mag+2.5*np.log10(1.5*1.5)\n",
    "I_surf = I_mag+2.5*np.log10(1.5*1.5)\n",
    "V_surf = V_mag+2.5*np.log10(1.5*1.5)\n",
    "Ha_surf = Ha_mag+2.5*np.log10(1.5*1.5)"
   ]
  },
  {
   "cell_type": "code",
   "execution_count": null,
   "metadata": {},
   "outputs": [],
   "source": [
    "fig, ax = plt.subplots()\n",
    "\n",
    "ax.plot(radius,I_mag, color='r', marker='x', label='I')\n",
    "ax.plot(radius,R_mag, color='tab:orange', marker='x', label='R')\n",
    "ax.plot(radius,V_mag, color='g', marker='x', label='V')\n",
    "ax.plot(radius,B_mag, color='b', marker='x', label='B')\n",
    "\n",
    "patches = []\n",
    "colors = ['r','tab:orange','g','b']\n",
    "labels = ['I','R','V','B']\n",
    "for i in range(len(colors)):\n",
    "    patches.append(mpatches.Rectangle((0,0),1,1,fc=colors[i]))\n",
    "\n",
    "ax.set_yscale('log')\n",
    "ax.set_yticks([19,20,21,22,23])\n",
    "ax.get_yaxis().set_major_formatter(matplotlib.ticker.ScalarFormatter())\n",
    "plt.title('Radial Brightness Profiles', fontsize=20)\n",
    "plt.ylabel('Brightness (mag)')\n",
    "plt.xlabel('Radius (kpc)')\n",
    "plt.legend(patches,labels)\n",
    "plt.gca().invert_yaxis()\n",
    "plt.minorticks_off()\n",
    "fig.savefig('./Output/Analysis/Profiles/better_radial.pdf', bbox_inches='tight')\n",
    "plt.show()"
   ]
  },
  {
   "cell_type": "code",
   "execution_count": null,
   "metadata": {},
   "outputs": [],
   "source": [
    "fig, ax = plt.subplots()\n",
    "\n",
    "ax.plot(radius,np.subtract(B_mag,I_mag), color='k', marker='+', label='B-I')\n",
    "ax.plot(radius,np.subtract(B_mag,R_mag), color='k', marker='x', label='B-R')\n",
    "ax.plot(radius,np.subtract(B_mag,V_mag), color='k', marker='.', label='B-V')\n",
    "\n",
    "ax.set_yscale('log')\n",
    "ax.set_yticks([0.25,0.5,1,2])\n",
    "ax.get_yaxis().set_major_formatter(matplotlib.ticker.ScalarFormatter())\n",
    "plt.title('M51 Color Indices ', fontsize=20)\n",
    "plt.ylabel('Color (mag)')\n",
    "plt.xlabel('Radius (kpc)')\n",
    "plt.legend()\n",
    "plt.minorticks_off()\n",
    "fig.savefig('./Output/Analysis/Profiles/better_color.pdf', bbox_inches='tight')\n",
    "plt.show()"
   ]
  },
  {
   "cell_type": "code",
   "execution_count": null,
   "metadata": {
    "collapsed": true
   },
   "outputs": [],
   "source": [
    "B_V0 = 0.63\n",
    "B_V =  np.subtract(B_mag,V_mag)\n"
   ]
  },
  {
   "cell_type": "code",
   "execution_count": null,
   "metadata": {},
   "outputs": [],
   "source": [
    "plt.scatter(x,B_V, s=5)\n",
    "plt.axvline(40)\n",
    "plt.show()"
   ]
  },
  {
   "cell_type": "code",
   "execution_count": null,
   "metadata": {},
   "outputs": [],
   "source": [
    "B_V = np.mean(B_V)\n",
    "B_V"
   ]
  },
  {
   "cell_type": "code",
   "execution_count": null,
   "metadata": {},
   "outputs": [],
   "source": [
    "E_B_V = B_V - B_V0\n",
    "print E_B_V"
   ]
  },
  {
   "cell_type": "code",
   "execution_count": null,
   "metadata": {},
   "outputs": [],
   "source": [
    "AV = E_B_V*3.2\n",
    "print AV"
   ]
  },
  {
   "cell_type": "code",
   "execution_count": null,
   "metadata": {},
   "outputs": [],
   "source": [
    "A= {'B':0,'R':0,'I':0,'V':0,'Ha':0}\n",
    "\n",
    "A['B'] = AV * 1.324\n",
    "A['R'] = AV * 0.748\n",
    "A['I'] = AV * 0.482\n",
    "A['V'] = AV * 1\n",
    "A['Ha'] = AV * 0.748\n",
    "\n",
    "print A\n"
   ]
  },
  {
   "cell_type": "code",
   "execution_count": null,
   "metadata": {
    "collapsed": true
   },
   "outputs": [],
   "source": []
  },
  {
   "cell_type": "markdown",
   "metadata": {},
   "source": [
    "# Error"
   ]
  },
  {
   "cell_type": "code",
   "execution_count": null,
   "metadata": {},
   "outputs": [],
   "source": [
    "sigma_shot_B = np.sqrt(B_medians)\n",
    "sigma_shot_R = np.sqrt(R_medians)\n",
    "sigma_shot_I = np.sqrt(I_medians)\n",
    "sigma_shot_V = np.sqrt(V_medians)\n",
    "sigma_shot_Ha = np.sqrt(Ha_medians)\n",
    "sigma_shot_B"
   ]
  },
  {
   "cell_type": "code",
   "execution_count": null,
   "metadata": {},
   "outputs": [],
   "source": [
    "sigma_sky_B = np.std(B[0:200,200:400])\n",
    "sigma_sky_R = np.std(R[0:200,200:400])\n",
    "sigma_sky_I = np.std(I[0:200,200:400])\n",
    "sigma_sky_V = np.std(V[0:200,200:400])\n",
    "sigma_sky_Ha = np.std(Ha[0:200,200:400])\n",
    "sigma_sky_B"
   ]
  },
  {
   "cell_type": "code",
   "execution_count": null,
   "metadata": {},
   "outputs": [],
   "source": [
    "sigma_flux_B = np.sqrt(sigma_shot_B**2+sigma_sky_B**2)\n",
    "sigma_flux_R = np.sqrt(sigma_shot_R**2+sigma_sky_R**2)\n",
    "sigma_flux_I = np.sqrt(sigma_shot_I**2+sigma_sky_I**2)\n",
    "sigma_flux_V = np.sqrt(sigma_shot_V**2+sigma_sky_V**2)\n",
    "sigma_flux_Ha = np.sqrt(sigma_shot_Ha**2+sigma_sky_Ha**2)\n",
    "sigma_flux_B"
   ]
  },
  {
   "cell_type": "code",
   "execution_count": null,
   "metadata": {},
   "outputs": [],
   "source": [
    "sigma_m_B = (2.5/np.log(10))*sigma_flux_B/B_medians\n",
    "sigma_m_R = (2.5/np.log(10))*sigma_flux_R/R_medians\n",
    "sigma_m_I = (2.5/np.log(10))*sigma_flux_I/I_medians\n",
    "sigma_m_V = (2.5/np.log(10))*sigma_flux_V/V_medians\n",
    "sigma_m_Ha = (2.5/np.log(10))*sigma_flux_Ha/Ha_medians"
   ]
  },
  {
   "cell_type": "code",
   "execution_count": null,
   "metadata": {},
   "outputs": [],
   "source": [
    "sigma_m_B"
   ]
  },
  {
   "cell_type": "code",
   "execution_count": null,
   "metadata": {},
   "outputs": [],
   "source": [
    "fig, ax = plt.subplots()\n",
    "\n",
    "ax.errorbar(radius,I_surf, yerr= sigma_m_I, color='r', marker='x', label='I')\n",
    "ax.errorbar(radius,R_surf, yerr= sigma_m_R, color='tab:orange', marker='x', label='R')\n",
    "ax.errorbar(radius,V_surf, yerr= sigma_m_V, color='g', marker='x', label='V')\n",
    "ax.errorbar(radius,B_surf, yerr= sigma_m_B, color='b', marker='x', label='B')\n",
    "\n",
    "patches = []\n",
    "colors = ['r','tab:orange','g','b']\n",
    "labels = ['I','R','V','B']\n",
    "for i in range(len(colors)):\n",
    "    patches.append(mpatches.Rectangle((0,0),1,1,fc=colors[i]))\n",
    "\n",
    "ax.set_yscale('log')\n",
    "ax.set_yticks([18,19,20,21,22,23,24,25,26])\n",
    "ax.get_yaxis().set_major_formatter(matplotlib.ticker.ScalarFormatter())\n",
    "plt.title('M51 Surface Brightness Profiles', fontsize=20)\n",
    "plt.ylabel('Surface Brightness (mag/$\\mathrm{arcs^2}$)')\n",
    "plt.xlabel('Radius (kpc)')\n",
    "plt.legend(patches,labels)\n",
    "plt.gca().invert_yaxis()\n",
    "plt.minorticks_off()\n",
    "fig.savefig('./Output/Analysis/Profiles/brightness_err.pdf', bbox_inches='tight')\n",
    "plt.show()"
   ]
  },
  {
   "cell_type": "code",
   "execution_count": null,
   "metadata": {
    "collapsed": true
   },
   "outputs": [],
   "source": [
    "err_B_I = np.sqrt(sigma_m_B**2+sigma_m_I**2)\n",
    "err_B_R = np.sqrt(sigma_m_B**2+sigma_m_R**2)\n",
    "err_B_V = np.sqrt(sigma_m_B**2+sigma_m_V**2)"
   ]
  },
  {
   "cell_type": "code",
   "execution_count": null,
   "metadata": {},
   "outputs": [],
   "source": [
    "fig, ax = plt.subplots()\n",
    "\n",
    "ax.errorbar(radius,np.subtract(B_mag,I_mag), yerr=err_B_I, color='k', marker='+', label='B-I')\n",
    "ax.errorbar(radius,np.subtract(B_mag,R_mag), yerr=err_B_R, color='k', marker='x', label='B-R')\n",
    "ax.errorbar(radius,np.subtract(B_mag,V_mag), yerr=err_B_V, color='k', marker='.', label='B-V')\n",
    "\n",
    "ax.set_yscale('log')\n",
    "ax.set_yticks([0.25,0.5,1,2])\n",
    "ax.get_yaxis().set_major_formatter(matplotlib.ticker.ScalarFormatter())\n",
    "plt.title('M51 Color Indices ', fontsize=20)\n",
    "plt.ylabel('Color (mag)')\n",
    "plt.xlabel('Radius (kpc)')\n",
    "plt.legend()\n",
    "plt.minorticks_off()\n",
    "fig.savefig('./Output/Analysis/Profiles/color_err.pdf', bbox_inches='tight')\n",
    "plt.show()"
   ]
  },
  {
   "cell_type": "code",
   "execution_count": null,
   "metadata": {},
   "outputs": [],
   "source": [
    "sigma_B_V = np.mean(err_B_V)\n",
    "sigma_B_V"
   ]
  },
  {
   "cell_type": "code",
   "execution_count": null,
   "metadata": {
    "collapsed": true
   },
   "outputs": [],
   "source": []
  }
 ],
 "metadata": {
  "kernelspec": {
   "display_name": "Python 2",
   "language": "python",
   "name": "python2"
  },
  "language_info": {
   "codemirror_mode": {
    "name": "ipython",
    "version": 2
   },
   "file_extension": ".py",
   "mimetype": "text/x-python",
   "name": "python",
   "nbconvert_exporter": "python",
   "pygments_lexer": "ipython2",
   "version": "2.7.13"
  }
 },
 "nbformat": 4,
 "nbformat_minor": 2
}
