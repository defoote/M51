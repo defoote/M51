{
 "cells": [
  {
   "cell_type": "code",
   "execution_count": null,
   "metadata": {
    "collapsed": true
   },
   "outputs": [],
   "source": [
    "import numpy as np\n",
    "import matplotlib.pyplot as plt\n",
    "import matplotlib\n",
    "from astropy.io import fits\n",
    "from astropy.stats import sigma_clipped_stats\n",
    "import scipy.ndimage as snd"
   ]
  },
  {
   "cell_type": "code",
   "execution_count": null,
   "metadata": {
    "collapsed": true
   },
   "outputs": [],
   "source": [
    "Ha = fits.getdata('./Output/M51_aligned/Ha_final_norm_align.fits')\n",
    "R = fits.getdata('./Output/M51_aligned/R_final_norm_align.fits')\n",
    "Ha_width = 12.992761380402635 #nm\n",
    "R_width = 138 #nm"
   ]
  },
  {
   "cell_type": "code",
   "execution_count": null,
   "metadata": {},
   "outputs": [],
   "source": [
    "Ha_stat = sigma_clipped_stats(Ha,sigma=3,iters=3)\n",
    "Ha_median = Ha_stat[1]\n",
    "Ha_sigma = Ha_stat[2]   \n",
    "print ('Ha Median: %s' % Ha_median)\n",
    "print ('Ha Sigma: %s' % Ha_sigma)\n",
    "\n",
    "R_stat = sigma_clipped_stats(R,sigma=3,iters=3)\n",
    "R_median = R_stat[1]\n",
    "R_sigma = R_stat[2]   \n",
    "print ('R Median: %s' % R_median)\n",
    "print ('R Sigma: %s' % R_sigma)"
   ]
  },
  {
   "cell_type": "code",
   "execution_count": null,
   "metadata": {},
   "outputs": [],
   "source": [
    "plt.figure(figsize=((20,20)))\n",
    "\n",
    "plt.subplot(121)\n",
    "plt.title('Ha', fontsize=20)\n",
    "plt.imshow(Ha,vmin=Ha_median-10*Ha_sigma,vmax=Ha_median+10*Ha_sigma,cmap=plt.cm.coolwarm, origin='lower')\n",
    "plt.subplot(122)\n",
    "plt.title('R', fontsize=20)\n",
    "plt.imshow(R,vmin=R_median-15*R_sigma,vmax=R_median+15*R_sigma,cmap=plt.cm.coolwarm, origin='lower')\n",
    "\n",
    "plt.show()"
   ]
  },
  {
   "cell_type": "code",
   "execution_count": null,
   "metadata": {},
   "outputs": [],
   "source": [
    "R_norm = R*(Ha_width/R_width)\n",
    "\n",
    "R_norm_stat = sigma_clipped_stats(R_norm,sigma=3,iters=3)\n",
    "R_norm_median = R_norm_stat[1]\n",
    "R_norm_sigma = R_norm_stat[2]   \n",
    "print ('R norm Median: %s' % R_norm_median)\n",
    "print ('R norm Sigma: %s' % R_norm_sigma)"
   ]
  },
  {
   "cell_type": "code",
   "execution_count": null,
   "metadata": {},
   "outputs": [],
   "source": [
    "plt.figure(figsize=((20,20)))\n",
    "\n",
    "plt.subplot(121)\n",
    "plt.title('Ha', fontsize=20)\n",
    "plt.imshow(Ha,vmin=Ha_median-10*Ha_sigma,vmax=Ha_median+10*Ha_sigma,cmap=plt.cm.coolwarm, origin='lower')\n",
    "plt.colorbar()\n",
    "plt.subplot(122)\n",
    "plt.title('R norm', fontsize=20)\n",
    "plt.imshow(R_norm,vmin=R_norm_median-15*R_norm_sigma,vmax=R_norm_median+15*R_norm_sigma,cmap=plt.cm.coolwarm, origin='lower')\n",
    "plt.colorbar()\n",
    "plt.show()"
   ]
  },
  {
   "cell_type": "code",
   "execution_count": null,
   "metadata": {},
   "outputs": [],
   "source": [
    "Ha_line = Ha - 0.6*R_norm\n",
    "\n",
    "Ha_line_stat = sigma_clipped_stats(Ha_line,sigma=3,iters=3)\n",
    "Ha_line_median = Ha_line_stat[1]\n",
    "Ha_line_sigma = Ha_line_stat[2]   \n",
    "print ('Ha line Median: %s' % Ha_line_median)\n",
    "print ('Ha line Sigma: %s' % Ha_line_sigma)"
   ]
  },
  {
   "cell_type": "code",
   "execution_count": null,
   "metadata": {},
   "outputs": [],
   "source": [
    "fig = plt.figure(figsize=((10,10)))\n",
    "\n",
    "#plt.title('Ha line', fontsize=20)\n",
    "plt.imshow(Ha_line,vmin=Ha_line_median-10*Ha_line_sigma,vmax=Ha_line_median+10*Ha_line_sigma,cmap=plt.cm.coolwarm, origin='lower')\n",
    "plt.axis('off')\n",
    "fig.savefig('./Output/Figures/ha_regions.pdf', bbox_inches='tight')\n",
    "plt.show()"
   ]
  },
  {
   "cell_type": "code",
   "execution_count": null,
   "metadata": {},
   "outputs": [],
   "source": [
    "#Pick a region to analyze\n",
    "plt.figure(figsize=(10,10))\n",
    "plt.imshow(Ha_line,vmin=median-10*sigma,vmax=median+10*sigma,cmap=plt.cm.coolwarm, origin='lower')\n",
    "plt.xlim(400,700)\n",
    "plt.ylim(250,700)\n",
    "plt.show()"
   ]
  },
  {
   "cell_type": "code",
   "execution_count": null,
   "metadata": {},
   "outputs": [],
   "source": [
    "Ha_maximum=0\n",
    "Ha_max_pos=[0,0]\n",
    "\n",
    "for i in range(425,500):\n",
    "    for j in range(500,600):\n",
    "        if Ha_line[i][j]> Ha_maximum:\n",
    "            Ha_maximum = Ha_line[i][j]\n",
    "            Ha_max_pos[1] = i\n",
    "            Ha_max_pos[0] = j  \n",
    "            \n",
    "Ha_max_pos"
   ]
  },
  {
   "cell_type": "code",
   "execution_count": null,
   "metadata": {},
   "outputs": [],
   "source": [
    "flux = 0\n",
    "\n",
    "for i in range(400,700):\n",
    "    for j in range(250,700):\n",
    "        flux = flux + Ha_line[j][i]\n",
    "\n",
    "flux"
   ]
  },
  {
   "cell_type": "code",
   "execution_count": null,
   "metadata": {},
   "outputs": [],
   "source": [
    "luminosity = flux*1.4*2*(6.626069E-34*299792458/656.28E-9)*10**7*4*np.pi*2.19111E17**2*10**(0.4*0.03923080222404457)\n",
    "luminosity"
   ]
  },
  {
   "cell_type": "code",
   "execution_count": null,
   "metadata": {},
   "outputs": [],
   "source": [
    "SFR = luminosity*7.9e-42\n",
    "SFR"
   ]
  },
  {
   "cell_type": "code",
   "execution_count": null,
   "metadata": {},
   "outputs": [],
   "source": [
    "plt.figure(figsize=((10,10)))\n",
    "\n",
    "plt.title('Ha line', fontsize=20)\n",
    "plt.imshow(Ha_line,vmin=Ha_line_median-10*Ha_line_sigma,vmax=Ha_line_median+10*Ha_line_sigma,cmap=plt.cm.coolwarm, origin='lower')\n",
    "plt.colorbar()\n",
    "plt.xlim(472,492)\n",
    "plt.ylim(367,387)\n",
    "plt.show()"
   ]
  },
  {
   "cell_type": "code",
   "execution_count": null,
   "metadata": {},
   "outputs": [],
   "source": [
    "region1 = Ha_line[367:387,472:492]\n",
    "flux1=np.sum(region1)\n",
    "flux1"
   ]
  },
  {
   "cell_type": "code",
   "execution_count": null,
   "metadata": {},
   "outputs": [],
   "source": [
    "lum1 = flux1*1.4*2*(6.626069E-34*299792458/656.28E-9)*10**7*4*np.pi*2.19111E17**2*10**(0.4*0.03923080222404457)\n",
    "lum1"
   ]
  },
  {
   "cell_type": "code",
   "execution_count": null,
   "metadata": {},
   "outputs": [],
   "source": [
    "SFR1 = lum1*7.9e-42\n",
    "SFR1"
   ]
  },
  {
   "cell_type": "code",
   "execution_count": null,
   "metadata": {},
   "outputs": [],
   "source": [
    "plt.figure(figsize=((10,10)))\n",
    "\n",
    "plt.title('Ha line', fontsize=20)\n",
    "plt.imshow(Ha_line,vmin=Ha_line_median-10*Ha_line_sigma,vmax=Ha_line_median+10*Ha_line_sigma,cmap=plt.cm.coolwarm, origin='lower')\n",
    "plt.colorbar()\n",
    "plt.xlim(588,618)\n",
    "plt.ylim(552,582)\n",
    "plt.show()"
   ]
  },
  {
   "cell_type": "code",
   "execution_count": null,
   "metadata": {},
   "outputs": [],
   "source": [
    "region2 = Ha_line[552:582,588:618]\n",
    "flux2=np.sum(region2)\n",
    "flux2"
   ]
  },
  {
   "cell_type": "code",
   "execution_count": null,
   "metadata": {},
   "outputs": [],
   "source": [
    "lum2 = flux2*1.4*2*(6.626069E-34*299792458/656.28E-9)*10**7*4*np.pi*2.19111E17**2*10**(0.4*0.03923080222404457)\n",
    "lum2"
   ]
  },
  {
   "cell_type": "code",
   "execution_count": null,
   "metadata": {},
   "outputs": [],
   "source": [
    "SFR2 = lum2*7.9e-42\n",
    "SFR2"
   ]
  },
  {
   "cell_type": "code",
   "execution_count": null,
   "metadata": {
    "collapsed": true
   },
   "outputs": [],
   "source": []
  }
 ],
 "metadata": {
  "kernelspec": {
   "display_name": "Python 2",
   "language": "python",
   "name": "python2"
  },
  "language_info": {
   "codemirror_mode": {
    "name": "ipython",
    "version": 2
   },
   "file_extension": ".py",
   "mimetype": "text/x-python",
   "name": "python",
   "nbconvert_exporter": "python",
   "pygments_lexer": "ipython2",
   "version": "2.7.13"
  }
 },
 "nbformat": 4,
 "nbformat_minor": 2
}
