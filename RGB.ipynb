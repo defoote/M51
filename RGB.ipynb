{
 "cells": [
  {
   "cell_type": "code",
   "execution_count": null,
   "metadata": {
    "collapsed": true
   },
   "outputs": [],
   "source": [
    "import numpy as np\n",
    "import matplotlib.pyplot as plt\n",
    "from astropy.io import fits\n",
    "import math\n",
    "from matplotlib.colors import(PowerNorm,LogNorm)"
   ]
  },
  {
   "cell_type": "code",
   "execution_count": null,
   "metadata": {
    "collapsed": true
   },
   "outputs": [],
   "source": [
    "R = 'Ha'\n",
    "G = 'V'\n",
    "B = 'B'"
   ]
  },
  {
   "cell_type": "code",
   "execution_count": null,
   "metadata": {
    "collapsed": true
   },
   "outputs": [],
   "source": [
    "r = fits.getdata('./Output/M51_aligned/%s_final_norm_align.fits' % R)\n",
    "g = fits.getdata('./Output/M51_aligned/%s_final_norm_align.fits' % G)\n",
    "b = fits.getdata('./Output/M51_aligned/%s_final_norm_align.fits' % B)"
   ]
  },
  {
   "cell_type": "code",
   "execution_count": null,
   "metadata": {
    "collapsed": true
   },
   "outputs": [],
   "source": [
    "low_1 = 0.5 \n",
    "high_1 = 4\n",
    "\n",
    "low_2 = 0.1 \n",
    "high_2 = 4\n",
    "\n",
    "rmin_1, rmax_1 = np.mean(r)+low_1*np.std(r), np.mean(r)+high_1*np.std(r)\n",
    "gmin_1, gmax_1 = np.mean(g)+low_1*np.std(g), np.mean(g)+high_1*np.std(g)\n",
    "bmin_1, bmax_1 = np.mean(b)+low_1*np.std(b), np.mean(b)+high_1*np.std(b)\n",
    "\n",
    "rmin_2, rmax_2 = np.mean(r)+low_2*np.std(r), np.mean(r)+high_2*np.std(r)\n",
    "gmin_2, gmax_2 = np.mean(g)+low_2*np.std(g), np.mean(g)+high_2*np.std(g)\n",
    "bmin_2, bmax_2 = np.mean(b)+low_2*np.std(b), np.mean(b)+high_2*np.std(b)\n",
    "\n",
    "img_1 = np.zeros((1024,1024,3))\n",
    "img_2 = np.zeros((1024,1024,3))\n",
    "\n",
    "img_1[:,:,0]=asinh(r,scale_min=rmin_1,scale_max=rmax_1)\n",
    "img_1[:,:,1]=asinh(g,scale_min=gmin_1,scale_max=gmax_1)\n",
    "img_1[:,:,2]=asinh(b,scale_min=bmin_1,scale_max=bmax_1)\n",
    "\n",
    "img_2[:,:,0]=asinh(r,scale_min=rmin_2,scale_max=rmax_2)\n",
    "img_2[:,:,1]=asinh(g,scale_min=gmin_2,scale_max=gmax_2)\n",
    "img_2[:,:,2]=asinh(b,scale_min=bmin_2,scale_max=bmax_2)"
   ]
  },
  {
   "cell_type": "code",
   "execution_count": null,
   "metadata": {
    "scrolled": false
   },
   "outputs": [],
   "source": [
    "fig=plt.figure(figsize=(20,20))\n",
    "plt.subplot(121)\n",
    "plt.axis('off')\n",
    "plt.imshow(img_1, origin='lower')\n",
    "plt.subplot(122)\n",
    "plt.imshow(img_2, origin='lower')\n",
    "plt.axis('off')\n",
    "plt.show()"
   ]
  },
  {
   "cell_type": "code",
   "execution_count": null,
   "metadata": {},
   "outputs": [],
   "source": [
    "fig=plt.figure(figsize=(15,15))\n",
    "plt.axis('off')\n",
    "plt.imshow(img_1, origin='lower')\n",
    "plt.savefig('./Output/Colors/%s%s%s_norm.pdf' % (R,G,B),bbox_inches='tight')\n",
    "plt.savefig('./Output/Colors/%s%s%s_norm.jpg' % (R,G,B),bbox_inches='tight')\n",
    "plt.show()"
   ]
  },
  {
   "cell_type": "code",
   "execution_count": null,
   "metadata": {
    "collapsed": true
   },
   "outputs": [],
   "source": []
  },
  {
   "cell_type": "code",
   "execution_count": null,
   "metadata": {
    "collapsed": true
   },
   "outputs": [],
   "source": []
  },
  {
   "cell_type": "code",
   "execution_count": null,
   "metadata": {
    "collapsed": true
   },
   "outputs": [],
   "source": [
    "#Doesn't really do anything\n",
    "hdu = fits.PrimaryHDU(img)\n",
    "hdul = fits.HDUList([hdu])\n",
    "#hdu.writeto('./Output/Color_%s%s%s.fits' % (R,G,B), overwrite='True')"
   ]
  },
  {
   "cell_type": "code",
   "execution_count": null,
   "metadata": {
    "collapsed": true
   },
   "outputs": [],
   "source": []
  },
  {
   "cell_type": "code",
   "execution_count": null,
   "metadata": {
    "collapsed": true
   },
   "outputs": [],
   "source": [
    "def asinh(inputArray, scale_min=None, scale_max=None, non_linear=2.0):\n",
    "\t\"\"\"Performs asinh scaling of the input numpy array.\n",
    "\n",
    "\t@type inputArray: numpy array\n",
    "\t@param inputArray: image data array\n",
    "\t@type scale_min: float\n",
    "\t@param scale_min: minimum data value\n",
    "\t@type scale_max: float\n",
    "\t@param scale_max: maximum data value\n",
    "\t@type non_linear: float\n",
    "\t@param non_linear: non-linearity factor\n",
    "\t@rtype: numpy array\n",
    "\t@return: image data array\n",
    "\t\n",
    "\t\"\"\"\t\t\n",
    "    \n",
    "\t#print \"img_scale : asinh\"\n",
    "\timageData=np.array(inputArray, copy=True)\n",
    "\t\n",
    "\tif scale_min == None:\n",
    "\t\tscale_min = imageData.min()\n",
    "\tif scale_max == None:\n",
    "\t\tscale_max = imageData.max()\n",
    "\tfactor = np.arcsinh((scale_max - scale_min)/non_linear)\n",
    "\tindices0 = np.where(imageData < scale_min)\n",
    "\tindices1 = np.where((imageData >= scale_min) & (imageData <= scale_max))\n",
    "\tindices2 = np.where(imageData > scale_max)\n",
    "\timageData[indices0] = 0.0\n",
    "\timageData[indices2] = 1.0\n",
    "\timageData[indices1] = np.arcsinh((imageData[indices1] - \\\n",
    "\tscale_min)/non_linear)/factor\n",
    "\n",
    "\treturn imageData"
   ]
  },
  {
   "cell_type": "code",
   "execution_count": null,
   "metadata": {
    "collapsed": true
   },
   "outputs": [],
   "source": []
  }
 ],
 "metadata": {
  "kernelspec": {
   "display_name": "Python 2",
   "language": "python",
   "name": "python2"
  },
  "language_info": {
   "codemirror_mode": {
    "name": "ipython",
    "version": 2
   },
   "file_extension": ".py",
   "mimetype": "text/x-python",
   "name": "python",
   "nbconvert_exporter": "python",
   "pygments_lexer": "ipython2",
   "version": "2.7.13"
  }
 },
 "nbformat": 4,
 "nbformat_minor": 2
}
