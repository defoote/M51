{
 "cells": [
  {
   "cell_type": "markdown",
   "metadata": {},
   "source": [
    "# Photometric Calibration"
   ]
  },
  {
   "cell_type": "code",
   "execution_count": null,
   "metadata": {
    "collapsed": true
   },
   "outputs": [],
   "source": [
    "import numpy as np\n",
    "import matplotlib.pyplot as plt\n",
    "from matplotlib.colors import(PowerNorm,LogNorm)\n",
    "from astropy.io import fits\n",
    "from astropy.stats import sigma_clipped_stats\n",
    "import os\n",
    "import scipy.ndimage as snd\n",
    "from scipy import signal\n",
    "import glob\n",
    "import matplotlib.pyplot as plt"
   ]
  },
  {
   "cell_type": "code",
   "execution_count": null,
   "metadata": {
    "collapsed": true
   },
   "outputs": [],
   "source": [
    "filt= 'B'"
   ]
  },
  {
   "cell_type": "code",
   "execution_count": null,
   "metadata": {},
   "outputs": [],
   "source": [
    "filenames = glob.glob('./Final_Data/Calibration/F66_%s*' % filt)\n",
    "filenames"
   ]
  },
  {
   "cell_type": "code",
   "execution_count": null,
   "metadata": {
    "collapsed": true
   },
   "outputs": [],
   "source": [
    "files = [fits.getdata(image) for image in filenames]"
   ]
  },
  {
   "cell_type": "code",
   "execution_count": null,
   "metadata": {},
   "outputs": [],
   "source": [
    "plt.figure(figsize=((15,15)))\n",
    "plt.subplot(131)\n",
    "plt.imshow(files[0], cmap='gray', origin='lower', vmin=np.median(files[0])-2*np.std(files[0]),\n",
    "                    vmax=np.median(files[0])+3*np.std(files[0]))\n",
    "plt.subplot(132)\n",
    "plt.imshow(files[1], cmap='gray', origin='lower', vmin=np.median(files[0])-2*np.std(files[0]),\n",
    "                    vmax=np.median(files[0])+3*np.std(files[0]))\n",
    "plt.subplot(133)\n",
    "plt.imshow(files[2], cmap='gray', origin='lower', vmin=np.median(files[0])-2*np.std(files[0]),\n",
    "                    vmax=np.median(files[0])+3*np.std(files[0]))\n",
    "plt.show()"
   ]
  },
  {
   "cell_type": "code",
   "execution_count": null,
   "metadata": {
    "collapsed": true
   },
   "outputs": [],
   "source": [
    "dark = fits.getdata('./Output/Dark.fits')\n",
    "bias = fits.getdata('./Output/Bias.fits')\n",
    "flat= fits.getdata('./Output/Flats/%s_flat.fits' % filt)"
   ]
  },
  {
   "cell_type": "code",
   "execution_count": null,
   "metadata": {
    "collapsed": true
   },
   "outputs": [],
   "source": [
    "exp_time = fits.getheader(filenames[0])['EXPTIME']\n",
    "\n",
    "reduced = (files-(dark-bias)*(exp_time/200)-bias)/((flat-bias)/np.median(flat-bias))\n",
    "reduced = reduced/exp_time"
   ]
  },
  {
   "cell_type": "code",
   "execution_count": null,
   "metadata": {},
   "outputs": [],
   "source": [
    "plt.figure(figsize=((15,15)))\n",
    "plt.subplot(131)\n",
    "plt.imshow(reduced[0], cmap='gray', origin='lower', vmin=np.median(reduced[0])-2*np.std(reduced[0]),\n",
    "                    vmax=np.median(reduced[0])+3*np.std(reduced[0]))\n",
    "plt.subplot(132)\n",
    "plt.imshow(reduced[1], cmap='gray', origin='lower', vmin=np.median(reduced[0])-2*np.std(reduced[0]),\n",
    "                    vmax=np.median(reduced[0])+3*np.std(reduced[0]))\n",
    "plt.subplot(133)\n",
    "plt.imshow(reduced[2], cmap='gray', origin='lower', vmin=np.median(reduced[0])-2*np.std(reduced[0]),\n",
    "                    vmax=np.median(reduced[0])+3*np.std(reduced[0]))\n",
    "plt.show()"
   ]
  },
  {
   "cell_type": "markdown",
   "metadata": {},
   "source": [
    "# Find Feige 66"
   ]
  },
  {
   "cell_type": "code",
   "execution_count": null,
   "metadata": {
    "collapsed": true
   },
   "outputs": [],
   "source": [
    "filt_frames = np.empty_like(reduced)\n",
    "\n",
    "for i in range(len(reduced)):\n",
    "    filt_frames[i] = signal.medfilt(reduced[i],7)"
   ]
  },
  {
   "cell_type": "code",
   "execution_count": null,
   "metadata": {},
   "outputs": [],
   "source": [
    "np.std(filt_frames[0])"
   ]
  },
  {
   "cell_type": "code",
   "execution_count": null,
   "metadata": {},
   "outputs": [],
   "source": [
    "plt.figure(figsize=((15,15)))\n",
    "plt.subplot(131)\n",
    "plt.imshow(filt_frames[0], cmap='gray', origin='lower', vmin=np.median(filt_frames[0])-2*np.std(filt_frames[0]),\n",
    "                    vmax=np.median(filt_frames[0])+3*np.std(filt_frames[0]))\n",
    "plt.subplot(132)\n",
    "plt.imshow(filt_frames[1], cmap='gray', origin='lower', vmin=np.median(filt_frames[1])-2*np.std(filt_frames[1]),\n",
    "                    vmax=np.median(filt_frames[1])+3*np.std(filt_frames[1]))\n",
    "plt.subplot(133)\n",
    "plt.imshow(filt_frames[2], cmap='gray', origin='lower', vmin=np.median(filt_frames[2])-2*np.std(filt_frames[2]),\n",
    "                    vmax=np.median(filt_frames[2])+3*np.std(filt_frames[2]))\n",
    "plt.show()"
   ]
  },
  {
   "cell_type": "code",
   "execution_count": null,
   "metadata": {
    "collapsed": true
   },
   "outputs": [],
   "source": [
    "mask = np.zeros_like(filt_frames)\n",
    "median=np.ndarray(len(filt_frames))\n",
    "std=np.ndarray(len(filt_frames))\n",
    "\n",
    "for i in range(len(filt_frames)):\n",
    "    median[i] = np.median(filt_frames[i])\n",
    "    std[i] = np.std(filt_frames[i])\n",
    "\n",
    "for k in range(len(filt_frames)):\n",
    "    for i in range(1024):\n",
    "        for j in range(1024):\n",
    "            if filt_frames[k][i][j] > median[k]+5*std[k]:\n",
    "                mask[k][i][j] = 1"
   ]
  },
  {
   "cell_type": "code",
   "execution_count": null,
   "metadata": {},
   "outputs": [],
   "source": [
    "plt.figure(figsize=((15,15)))\n",
    "plt.subplot(131)\n",
    "plt.imshow(mask[0], origin='lower', cmap='gray')\n",
    "plt.subplot(132)\n",
    "plt.imshow(mask[1], origin='lower', cmap='gray')\n",
    "plt.subplot(133)\n",
    "plt.imshow(mask[2], origin='lower', cmap='gray')\n",
    "plt.show()"
   ]
  },
  {
   "cell_type": "code",
   "execution_count": null,
   "metadata": {
    "collapsed": true
   },
   "outputs": [],
   "source": [
    "star = [0,0,0]\n",
    "max_pos = np.ndarray((len(filt_frames),2))\n",
    "\n",
    "for i in range(len(filt_frames)):\n",
    "    labels,num = snd.label(mask[i] == 1, np.ones((3,3)))\n",
    "    centers = snd.center_of_mass(mask[i],labels,range(1,num+1))\n",
    "    max_pos[i] = snd.maximum_position(filt_frames[i],labels)\n",
    "    star[i] = centers"
   ]
  },
  {
   "cell_type": "code",
   "execution_count": null,
   "metadata": {
    "collapsed": true
   },
   "outputs": [],
   "source": [
    "r = [5,8,11,14,17,20,30]\n",
    "\n",
    "flux = np.zeros((len(filt_frames),len(r)))\n",
    "reduced_copy = np.copy(reduced)\n",
    "\n",
    "for l in range(len(filt_frames)):\n",
    "    for k in range(len(r)):\n",
    "        for i in range(int(max_pos[l][0])-40,int(max_pos[l][0]+40)):\n",
    "            for j in range(int(max_pos[l][1])-40,int(max_pos[l][1]+40)):\n",
    "                if ((i-max_pos[l][0])**2+(j-max_pos[l][1])**2) < (r[k]**2):\n",
    "                    flux[l][k] = flux[l][k] + reduced[l][i][j]\n"
   ]
  },
  {
   "cell_type": "code",
   "execution_count": null,
   "metadata": {},
   "outputs": [],
   "source": [
    "plt.figure(figsize=((15,15)))\n",
    "\n",
    "#Frame 1\n",
    "plt.subplot(131)\n",
    "\n",
    "circle1=plt.Circle((max_pos[0][1],max_pos[0][0]),r[0],color='r',fill=False)\n",
    "plt.gcf().gca().add_artist(circle1)\n",
    "circle2=plt.Circle((max_pos[0][1],max_pos[0][0]),r[1],color='r',fill=False)\n",
    "plt.gcf().gca().add_artist(circle2)\n",
    "circle3=plt.Circle((max_pos[0][1],max_pos[0][0]),r[2],color='r',fill=False)\n",
    "plt.gcf().gca().add_artist(circle3)\n",
    "circle4=plt.Circle((max_pos[0][1],max_pos[0][0]),r[3],color='r',fill=False)\n",
    "plt.gcf().gca().add_artist(circle4)\n",
    "circle5=plt.Circle((max_pos[0][1],max_pos[0][0]),r[4],color='r',fill=False)\n",
    "plt.gcf().gca().add_artist(circle5)\n",
    "circle6=plt.Circle((max_pos[0][1],max_pos[0][0]),r[5],color='r',fill=False)\n",
    "plt.gcf().gca().add_artist(circle6)\n",
    "circle7=plt.Circle((max_pos[0][1],max_pos[0][0]),r[6],color='r',fill=False)\n",
    "plt.gcf().gca().add_artist(circle7)\n",
    "\n",
    "plt.imshow(reduced[0], cmap='gray', origin='lower', vmin=np.median(reduced[0])-2*np.std(reduced[0]),\n",
    "                    vmax=np.median(reduced[0])+3*np.std(reduced[0]))\n",
    "\n",
    "plt.xlim(max_pos[0][1]-50,max_pos[0][1]+50)\n",
    "plt.ylim(max_pos[0][0]-50,max_pos[0][0]+50)\n",
    "\n",
    "\n",
    "#Frame 2\n",
    "plt.subplot(132)\n",
    "\n",
    "circle1=plt.Circle((max_pos[1][1],max_pos[1][0]),r[0],color='r',fill=False)\n",
    "plt.gcf().gca().add_artist(circle1)\n",
    "circle2=plt.Circle((max_pos[1][1],max_pos[1][0]),r[1],color='r',fill=False)\n",
    "plt.gcf().gca().add_artist(circle2)\n",
    "circle3=plt.Circle((max_pos[1][1],max_pos[1][0]),r[2],color='r',fill=False)\n",
    "plt.gcf().gca().add_artist(circle3)\n",
    "circle4=plt.Circle((max_pos[1][1],max_pos[1][0]),r[3],color='r',fill=False)\n",
    "plt.gcf().gca().add_artist(circle4)\n",
    "circle5=plt.Circle((max_pos[1][1],max_pos[1][0]),r[4],color='r',fill=False)\n",
    "plt.gcf().gca().add_artist(circle5)\n",
    "circle6=plt.Circle((max_pos[1][1],max_pos[1][0]),r[5],color='r',fill=False)\n",
    "plt.gcf().gca().add_artist(circle6)\n",
    "circle7=plt.Circle((max_pos[1][1],max_pos[1][0]),r[6],color='r',fill=False)\n",
    "plt.gcf().gca().add_artist(circle7)\n",
    "\n",
    "plt.imshow(reduced[1], cmap='gray', origin='lower', vmin=np.median(reduced[1])-2*np.std(reduced[1]),\n",
    "                    vmax=np.median(reduced[1])+3*np.std(reduced[1]))\n",
    "\n",
    "plt.xlim(max_pos[1][1]-50,max_pos[1][1]+50)\n",
    "plt.ylim(max_pos[1][0]-50,max_pos[1][0]+50)\n",
    "\n",
    "#Frame 3\n",
    "plt.subplot(133)\n",
    "\n",
    "circle1=plt.Circle((max_pos[2][1],max_pos[2][0]),r[0],color='r',fill=False)\n",
    "plt.gcf().gca().add_artist(circle1)\n",
    "circle2=plt.Circle((max_pos[2][1],max_pos[2][0]),r[1],color='r',fill=False)\n",
    "plt.gcf().gca().add_artist(circle2)\n",
    "circle3=plt.Circle((max_pos[2][1],max_pos[2][0]),r[2],color='r',fill=False)\n",
    "plt.gcf().gca().add_artist(circle3)\n",
    "circle4=plt.Circle((max_pos[2][1],max_pos[2][0]),r[3],color='r',fill=False)\n",
    "plt.gcf().gca().add_artist(circle4)\n",
    "circle5=plt.Circle((max_pos[2][1],max_pos[2][0]),r[4],color='r',fill=False)\n",
    "plt.gcf().gca().add_artist(circle5)\n",
    "circle6=plt.Circle((max_pos[2][1],max_pos[2][0]),r[5],color='r',fill=False)\n",
    "plt.gcf().gca().add_artist(circle6)\n",
    "circle7=plt.Circle((max_pos[2][1],max_pos[2][0]),r[6],color='r',fill=False)\n",
    "plt.gcf().gca().add_artist(circle7)\n",
    "\n",
    "plt.imshow(reduced[2], cmap='gray', origin='lower', vmin=np.median(reduced[2])-2*np.std(reduced[2]),\n",
    "                    vmax=np.median(reduced[2])+3*np.std(reduced[2]))\n",
    "\n",
    "plt.xlim(max_pos[2][1]-50,max_pos[2][1]+50)\n",
    "plt.ylim(max_pos[2][0]-50,max_pos[2][0]+50)\n",
    "\n",
    "plt.show()"
   ]
  },
  {
   "cell_type": "code",
   "execution_count": null,
   "metadata": {},
   "outputs": [],
   "source": [
    "print flux"
   ]
  },
  {
   "cell_type": "code",
   "execution_count": null,
   "metadata": {},
   "outputs": [],
   "source": [
    "F66 = np.ndarray((len(flux),len(r)))\n",
    "\n",
    "for i in range(len(flux)):\n",
    "    for j in range(len(r)):\n",
    "        F66[i][j] = flux[i][j]-((flux[i][len(r)-1]-flux[i][len(r)-2])/(np.pi*(r[len(r)-1]**2-r[len(r)-2]**2))*(np.pi*(r[j]**2)))\n",
    "\n",
    "print F66"
   ]
  },
  {
   "cell_type": "code",
   "execution_count": null,
   "metadata": {},
   "outputs": [],
   "source": [
    "fig = plt.figure(figsize=(10,5))\n",
    "for i in range(len(flux)):\n",
    "    plt.plot(r,F66[i], color='k', label='Frame %d' % (i+1))\n",
    "    \n",
    "plt.ylabel('Feige 66 Flux (ADU/s)')\n",
    "plt.xlabel('Radius (pix)')\n",
    "plt.title('Flux from Feige 66 vs. Radius', fontsize=20)\n",
    "fig.savefig('./Output/Figures/F66_growth.pdf', bbox_inches='tight')\n",
    "plt.show()"
   ]
  },
  {
   "cell_type": "code",
   "execution_count": null,
   "metadata": {
    "collapsed": true
   },
   "outputs": [],
   "source": [
    "ext_coef = {'B':0.302,'R':0.104,'I':0.051,'V':0.164,'Ha':0.104}\n",
    "F66_mag = {'B':10.26,'R':10.642,'I':10.809,'V':10.59,'Ha':11.024}"
   ]
  },
  {
   "cell_type": "code",
   "execution_count": null,
   "metadata": {},
   "outputs": [],
   "source": [
    "airmass = np.mean([fits.getheader(image)['AIRMASS'] for image in filenames])\n",
    "airmass"
   ]
  },
  {
   "cell_type": "code",
   "execution_count": null,
   "metadata": {},
   "outputs": [],
   "source": [
    "F66_mag[filt]+2.5*np.log10(np.mean(F66[:,3]))+ext_coef[filt]*airmass\n"
   ]
  },
  {
   "cell_type": "code",
   "execution_count": null,
   "metadata": {
    "collapsed": true
   },
   "outputs": [],
   "source": [
    "zpt = {'B':20.495713252099467,'R':20.614211648453246,'I':19.197490584726474,'V':20.647121539787459,'Ha':17.575096769996414}"
   ]
  },
  {
   "cell_type": "code",
   "execution_count": null,
   "metadata": {
    "collapsed": true
   },
   "outputs": [],
   "source": []
  },
  {
   "cell_type": "markdown",
   "metadata": {},
   "source": [
    "# Error"
   ]
  },
  {
   "cell_type": "code",
   "execution_count": null,
   "metadata": {},
   "outputs": [],
   "source": [
    "sigma_shot=np.sqrt(F66[:,3])\n",
    "sigma_shot"
   ]
  },
  {
   "cell_type": "code",
   "execution_count": null,
   "metadata": {},
   "outputs": [],
   "source": [
    "sigma_sky = [0,0,0]\n",
    "\n",
    "for i in range(len(flux)):   \n",
    "    sigma_sky[i] = (flux[i][6]-flux[i][5])/(np.pi*(r[6]**2-r[5]**2))*(np.pi*r[3]**2)\n",
    "\n",
    "print sigma_sky"
   ]
  },
  {
   "cell_type": "code",
   "execution_count": null,
   "metadata": {},
   "outputs": [],
   "source": [
    "sigma_flux = [0,0,0]\n",
    "for i in range(len(sigma_flux)):\n",
    "    sigma_flux[i] = np.sqrt(sigma_shot[i]**2+sigma_sky[i]**2)\n",
    "sigma_flux"
   ]
  },
  {
   "cell_type": "code",
   "execution_count": null,
   "metadata": {},
   "outputs": [],
   "source": [
    "sigma_m = [0,0,0]\n",
    "for i in range(len(sigma_m)):\n",
    "    sigma_m[i] = (2.5/np.log(10))*sigma_flux[i]/F66[i,3]\n",
    "sigma_m"
   ]
  },
  {
   "cell_type": "code",
   "execution_count": null,
   "metadata": {},
   "outputs": [],
   "source": [
    "sigma_m = np.sqrt(sigma_m[0]**2+sigma_m[1]**2+sigma_m[2]**2)\n",
    "sigma_m"
   ]
  },
  {
   "cell_type": "code",
   "execution_count": null,
   "metadata": {
    "collapsed": true
   },
   "outputs": [],
   "source": [
    "z_err = {'B':0.46886509632532331,'R':1.418729232296043,'I':1.3018832822952522,'V':1.2930335974139877,'Ha':0.89876087285199369}"
   ]
  },
  {
   "cell_type": "code",
   "execution_count": null,
   "metadata": {
    "collapsed": true
   },
   "outputs": [],
   "source": []
  }
 ],
 "metadata": {
  "kernelspec": {
   "display_name": "Python 2",
   "language": "python",
   "name": "python2"
  },
  "language_info": {
   "codemirror_mode": {
    "name": "ipython",
    "version": 2
   },
   "file_extension": ".py",
   "mimetype": "text/x-python",
   "name": "python",
   "nbconvert_exporter": "python",
   "pygments_lexer": "ipython2",
   "version": "2.7.13"
  }
 },
 "nbformat": 4,
 "nbformat_minor": 2
}
